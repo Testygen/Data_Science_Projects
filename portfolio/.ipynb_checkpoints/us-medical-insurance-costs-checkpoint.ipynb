{
 "cells": [
  {
   "cell_type": "markdown",
   "metadata": {},
   "source": [
    "# U.S. Medical Insurance Costs\n",
    "\n",
    "## 1. Introduction \n",
    "\n",
    " - **Purpose:** To investigate a medical insurance costs dataset in a .csv file using pythong fundamentals only. This is part of my Machine Learning journey and serves as an opportunity to put my python knowledge to the test. While I will perform basic statistical analysis on the dataset to gain more insight, the core of the project is based on my question below:\n",
    " - **Question:** Do smokers from this dataset have higher average medical insurance cost than non-smokers?\n",
    "\n",
    " - **Dataset Description:** Data originally  from [Kaggle](https://www.kaggle.com/datasets/mirichoi0218/insurance), but has been prepared by Codecademy in a .csv file. variables include age, sex, body mass index (BMI), number of children, smoking, and charges.\n",
    "\n",
    "\"Note: One of the columns contains BMI data. While insurance companies do use BMI in their calculations, and that is reflected in this project, BMI is not necessarily an accurate predictor of health. As data scientists, we should always be skeptical of quantitative measures like BMI that reduce complex phenomena to a single number.\"\n"
   ]
  },
  {
   "cell_type": "markdown",
   "metadata": {
    "jp-MarkdownHeadingCollapsed": true
   },
   "source": [
    "## 2. Data Loading\n",
    "\n",
    "I am loading the data as a dictionary using the csv module and storing it in a list.\n",
    "what you have is a list of dictionaries where each dictionary represent the data for an individual. Having the dataset in a dictionary makes it easy for analysis later on.\n",
    "Note that python automatically uses the variables as the key for the dict."
   ]
  },
  {
   "cell_type": "code",
   "execution_count": 1,
   "metadata": {},
   "outputs": [],
   "source": [
    "# Data Loading code\n",
    "import csv\n",
    "\n",
    "dataset_storage = []\n",
    "with open ('insurance.csv', newline='') as insurance_file:\n",
    "    csv_reader = csv.DictReader(insurance_file, delimiter=',')\n",
    "    for row in csv_reader:\n",
    "        dataset_storage.append(row)"
   ]
  },
  {
   "cell_type": "markdown",
   "metadata": {
    "jp-MarkdownHeadingCollapsed": true
   },
   "source": [
    "## 3. Initial Data Inspection\n",
    "\n",
    "This is what the data looks like and its size."
   ]
  },
  {
   "cell_type": "code",
   "execution_count": 2,
   "metadata": {},
   "outputs": [
    {
     "name": "stdout",
     "output_type": "stream",
     "text": [
      "{'age': '19', 'sex': 'female', 'bmi': '27.9', 'children': '0', 'smoker': 'yes', 'region': 'southwest', 'charges': '16884.924'}\n",
      "{'age': '18', 'sex': 'male', 'bmi': '33.77', 'children': '1', 'smoker': 'no', 'region': 'southeast', 'charges': '1725.5523'}\n",
      "{'age': '28', 'sex': 'male', 'bmi': '33', 'children': '3', 'smoker': 'no', 'region': 'southeast', 'charges': '4449.462'}\n",
      "{'age': '33', 'sex': 'male', 'bmi': '22.705', 'children': '0', 'smoker': 'no', 'region': 'northwest', 'charges': '21984.47061'}\n",
      "{'age': '32', 'sex': 'male', 'bmi': '28.88', 'children': '0', 'smoker': 'no', 'region': 'northwest', 'charges': '3866.8552'}\n",
      "{'age': '31', 'sex': 'female', 'bmi': '25.74', 'children': '0', 'smoker': 'no', 'region': 'southeast', 'charges': '3756.6216'}\n",
      "{'age': '46', 'sex': 'female', 'bmi': '33.44', 'children': '1', 'smoker': 'no', 'region': 'southeast', 'charges': '8240.5896'}\n",
      "{'age': '37', 'sex': 'female', 'bmi': '27.74', 'children': '3', 'smoker': 'no', 'region': 'northwest', 'charges': '7281.5056'}\n",
      "{'age': '37', 'sex': 'male', 'bmi': '29.83', 'children': '2', 'smoker': 'no', 'region': 'northeast', 'charges': '6406.4107'}\n",
      "{'age': '60', 'sex': 'female', 'bmi': '25.84', 'children': '0', 'smoker': 'no', 'region': 'northwest', 'charges': '28923.13692'}\n",
      "Size: 1338\n"
     ]
    }
   ],
   "source": [
    "# View 10 rows from the dataset\n",
    "for i in range(10):\n",
    "    print(dataset_storage[i])\n",
    "\n",
    "# This is the size of the data\n",
    "print(f\"Size: {len(dataset_storage)}\")"
   ]
  },
  {
   "cell_type": "markdown",
   "metadata": {
    "jp-MarkdownHeadingCollapsed": true
   },
   "source": [
    "## 4. Data Preparation\n",
    "\n",
    "I am preparing my data by storing relevant columns in their respective variables. This will make it easy to perform statistical analysis on the data.\n"
   ]
  },
  {
   "cell_type": "code",
   "execution_count": 3,
   "metadata": {},
   "outputs": [],
   "source": [
    "ages = [int(insurance_data_dict[\"age\"]) for insurance_data_dict in dataset_storage]\n",
    "bmis = [float(insurance_data_dict[\"bmi\"]) for insurance_data_dict in dataset_storage]"
   ]
  },
  {
   "cell_type": "markdown",
   "metadata": {
    "jp-MarkdownHeadingCollapsed": true
   },
   "source": [
    "## 5. Data Analysis"
   ]
  },
  {
   "cell_type": "markdown",
   "metadata": {},
   "source": [
    "### 1. Age Summary Statistics Calculation\n",
    "\n",
    "This analysis will discover the average, standard deviation, max, and min of ages of the individuals in the dataset. This is importatant to understand the basic demographic profile of the dataset.\n",
    "."
   ]
  },
  {
   "cell_type": "code",
   "execution_count": 4,
   "metadata": {},
   "outputs": [
    {
     "name": "stdout",
     "output_type": "stream",
     "text": [
      "The average age of individuals in the dataset is 39.20702541106129 years.\n",
      "The standard deviation of ages is 14.04470903895454\n",
      "The max age in the dataset is 64 years.\n",
      "The min age in the dataset is 18 years.\n"
     ]
    }
   ],
   "source": [
    "import math\n",
    "def average_age(list_of_ages):\n",
    "    age_sum = 0\n",
    "    for age in list_of_ages:\n",
    "        age_sum += age\n",
    "    average = age_sum / len(list_of_ages)\n",
    "    return average\n",
    "\n",
    "def standard_dev(average, list_of_ages):\n",
    "    sum_of_squared_diff = 0\n",
    "    for age in list_of_ages:\n",
    "        sum_of_squared_diff += (average - age)**2\n",
    "    standard_dev = math.sqrt(sum_of_squared_diff / len(list_of_ages))\n",
    "    return standard_dev\n",
    "\n",
    "def max_age(list_of_ages):\n",
    "    return max(list_of_ages)\n",
    "\n",
    "def min_age(list_of_ages):\n",
    "    return min(list_of_ages)\n",
    "\n",
    "print(f\"The average age of individuals in the dataset is {average_age(ages)} years.\")\n",
    "print(f\"The standard deviation of ages is {standard_dev(average_age(ages), ages)}\")\n",
    "print(f\"The max age in the dataset is {max_age(ages)} years.\")\n",
    "print(f\"The min age in the dataset is {min_age(ages)} years.\")"
   ]
  },
  {
   "cell_type": "markdown",
   "metadata": {},
   "source": [
    "#### Result Discussion\n",
    "\n",
    "The average age of this dataset, 39 might suggest that this dataset largely consist of middle-ages adults. At this age, I would assume most people are getting married with children so I would expect to see higher insurance charges overall.\n",
    "\n",
    "With a standard deviation of approximately 14 on the ages, this suggests that, on average, indivudal ages differ from the mean by about 14 years. Assuming this dataset is normal, we can safely say that most people fall between the ages of 25(39-14) and 53 years (39+14). I would say that ages vary quite a bit from the mean with a typical range extending about 14 years younger and older than the average. \n",
    "\n",
    "The oldest individual in the dataset is 64 years old.\n",
    "The youngest individual in the dataset is 18 years old.\n",
    "\n",
    "I would assume insurance companies use age differences of a population to segment market targets for young individuals and older individuals. "
   ]
  },
  {
   "cell_type": "markdown",
   "metadata": {},
   "source": [
    "### 2. Bmi Summary Statistics Calculation\n",
    "\n",
    "This analysis will discover the average, standard deviation, max, and min bmi of the individuals in the dataset. This is importatant to understand the basic demographic profile of the dataset."
   ]
  },
  {
   "cell_type": "code",
   "execution_count": 5,
   "metadata": {},
   "outputs": [
    {
     "name": "stdout",
     "output_type": "stream",
     "text": [
      "THe average bmi in the dataset is 30.663396860986538\n",
      "The standard deviation of the bmi is 6.095907641589428\n",
      "The max bmi is 53.13\n",
      "The min bmi is 15.96\n"
     ]
    }
   ],
   "source": [
    "def average_bmi(list_of_bmis):\n",
    "    sum_of_bmis = 0\n",
    "    for bmi in list_of_bmis:\n",
    "        sum_of_bmis += bmi\n",
    "    average_bmi = sum_of_bmis / len(list_of_bmis)\n",
    "    return average_bmi\n",
    "\n",
    "def standard_dev(average, list_of_bmis):\n",
    "    sum_of_square_diff = 0\n",
    "    for bmi in list_of_bmis:\n",
    "        sum_of_square_diff += (average - bmi)**2\n",
    "    standard_dev = math.sqrt(sum_of_square_diff / len(list_of_bmis))\n",
    "    return standard_dev\n",
    "\n",
    "def max_bmi(list_of_bmis):\n",
    "    return max(list_of_bmis)\n",
    "\n",
    "def min_bmi(list_of_bmis):\n",
    "    return min(list_of_bmis)\n",
    "\n",
    "print(f\"THe average bmi in the dataset is {average_bmi(bmis)}\")\n",
    "print(f\"The standard deviation of the bmi is {standard_dev(average_bmi(bmis), bmis)}\")\n",
    "print(f\"The max bmi is {max_bmi(bmis)}\")\n",
    "print(f\"The min bmi is {min_bmi(bmis)}\")"
   ]
  },
  {
   "cell_type": "markdown",
   "metadata": {},
   "source": [
    "#### Result Discussion\n",
    "\n",
    "- The average bmi in the dataset is approximately 30.7, which according to the [CDC](https://www.cdc.gov/healthyweight/assessing/bmi/adult_bmi/index.html) is considered obese. With this information, I can expect to see high overall medical insurance costs because high bmi is associated with increased risk of health issues.\n",
    "\n",
    "- With a standard deviation of approximately 6.1, this suggests that, on average, individual bmi differs from the mean by about 6.1. Assuming this dataset is normal, we can safely say that most people fall between the bmi range of 24.6(30.7 - 6.1) and 36.8(30.7 + 6.1). While a variation of 6.1 does not seem like much, however, within the context of health, that is the difference between a healthy individual and an obese individual. I would call that a significant difference.\n",
    "e- \n",
    "he  highest mi  in the datast is  53.13(obee)s and th  lowest bmi in the dataset is 15.96(underweigt).."
   ]
  },
  {
   "cell_type": "markdown",
   "metadata": {},
   "source": [
    "### 3. Smoking Proportion\n",
    "\n",
    "This analysis will calculate the occurences of smokers and non-smokers to gain insight on the distribution of smokers vs. non-smokers"
   ]
  },
  {
   "cell_type": "code",
   "execution_count": 6,
   "metadata": {},
   "outputs": [
    {
     "name": "stdout",
     "output_type": "stream",
     "text": [
      "There are 274 individuals in the dataset that smoke.\n",
      "There are 1064 individuals in the dataset that do not smoke.\n",
      "ratio: 3.883211678832117\n"
     ]
    }
   ],
   "source": [
    "# dataset_list is a list of dictionaries. Each dictionary represents data for one individual including their smoking status. See code cell 2 \n",
    "def count_of_smokers_vs_non_smokers(dataset_list):\n",
    "    count_of_smokers = 0\n",
    "    count_of_non_smokers = 0\n",
    "    for record in dataset_list:\n",
    "        if record[\"smoker\"] == \"yes\":\n",
    "            count_of_smokers += 1\n",
    "        elif record[\"smoker\"] == \"no\":\n",
    "            count_of_non_smokers += 1\n",
    "        else:\n",
    "            pass\n",
    "    return count_of_smokers, count_of_non_smokers\n",
    "        \n",
    "total_smokers, total_non_smokers = count_of_smokers_vs_non_smokers(dataset_storage)\n",
    "print(f\"There are {total_smokers} individuals in the dataset that smoke.\")\n",
    "print(f\"There are {total_non_smokers} individuals in the dataset that do not smoke.\")\n",
    "\n",
    "ratio_non_smoke_to_smoke = total_non_smokers / total_smokers\n",
    "print(f\"ratio: {ratio_non_smoke_to_smoke}\")"
   ]
  },
  {
   "cell_type": "markdown",
   "metadata": {
    "jp-MarkdownHeadingCollapsed": true
   },
   "source": [
    "#### Result Discussion\n",
    "\n",
    "- Well, this is a little surprising to me. From the calculations we can see there are significantly more non-smokers(1064) to smokers(274) with the ratio of approximately 1 smoker per 4 non smokers. Very interesting.\n"
   ]
  },
  {
   "cell_type": "markdown",
   "metadata": {},
   "source": [
    "### 4. Cost comparison between smokers vs. non-smokers\n",
    "\n",
    "This calculation will determine the total medical insurance costs of smokers vs. non-smokers. Then another function to calculate the average medical insurance cost between smokers vs. non_smokers. \n",
    "\n",
    "Considering the proportion of smokers to non-smokers, it will be interesting to see what the costs would be. \n",
    "\n",
    "I hypothesize that the total cost difference between the two demographics will not be significant (the layman's definition of significance). Though this will tell me that smoking status has a really high impact on medical insurance cost. Let's see..."
   ]
  },
  {
   "cell_type": "code",
   "execution_count": 7,
   "metadata": {},
   "outputs": [
    {
     "name": "stdout",
     "output_type": "stream",
     "text": [
      "Total costs for smokers in this dataset is $8,781,763.52\n",
      "Total costs for non-smokers in this dataset is $8,974,061.47\n"
     ]
    }
   ],
   "source": [
    "# dataset_list is a list of dictionaries. Each dictionary represents data for one individual including their charges and smoking Status. \n",
    "# See \"Initial Data Inspection\" above\n",
    "def smokers_vs_non_smokers_total_costs(dataset_list):\n",
    "    smoker_cost = 0.0\n",
    "    non_smoker_cost = 0.0\n",
    "    for record in dataset_list:\n",
    "        if record[\"smoker\"] == \"yes\":\n",
    "            smoker_cost += float(record[\"charges\"])\n",
    "        elif record[\"smoker\"] == \"no\":\n",
    "            non_smoker_cost += float(record[\"charges\"])\n",
    "        else:\n",
    "            pass\n",
    "    return smoker_cost, non_smoker_cost\n",
    "\n",
    "smoker_total_cost, non_smoker_total_cost = smokers_vs_non_smokers_total_costs(dataset_storage)\n",
    "print(f\"Total costs for smokers in this dataset is ${smoker_total_cost:,.2f}\")\n",
    "print(f\"Total costs for non-smokers in this dataset is ${non_smoker_total_cost:,.2f}\")"
   ]
  },
  {
   "cell_type": "markdown",
   "metadata": {},
   "source": [
    "#### Result Discussion\n",
    "\n",
    "- Where there any surprises? nope. not at all. when we consider the huge difference in the proportion of smokers to non-smokers, this result tells us that smoking has a big impact on medical insurance costs. If this is not obvious, then navigate to the next cell on average_costs."
   ]
  },
  {
   "cell_type": "code",
   "execution_count": 8,
   "metadata": {},
   "outputs": [
    {
     "name": "stdout",
     "output_type": "stream",
     "text": [
      "The avaerage insurance cost for smokers is $32,050.23\n",
      "The average insurance cost for non smokers is $8,434.27\n"
     ]
    }
   ],
   "source": [
    "# The arguments for total_cost and total_count are both functions that return a tuple for smokers and non_smokers. \n",
    "def average_costs(total_cost, total_count):\n",
    "    smoker_average = total_cost[0] / total_count[0]\n",
    "    non_smoker_average = total_cost[1] / total_count[1]\n",
    "    return smoker_average, non_smoker_average\n",
    "\n",
    "smoker_average, non_smoker_average = average_costs(smokers_vs_non_smokers_total_costs(dataset_storage), count_of_smokers_vs_non_smokers(dataset_storage))\n",
    "\n",
    "print(f\"The avaerage insurance cost for smokers is ${smoker_average:,.2f}\")\n",
    "print(f\"The average insurance cost for non smokers is ${non_smoker_average:,.2f}\")"
   ]
  },
  {
   "cell_type": "markdown",
   "metadata": {},
   "source": [
    "#### Result Discussion\n",
    "\n",
    "- The average insurance cost for smokers(\\\\$32,050.23) is approximately 4 times higher than the average insurance cost for non-smokers(\\\\$8,434.27).\n",
    "\n",
    "- Within the context of this dataset, it is safe to say that any smoker's medical insurance cost is likely to be 4 timers higher than any non-smoker's medical insurrance cost.\n"
   ]
  },
  {
   "cell_type": "markdown",
   "metadata": {
    "jp-MarkdownHeadingCollapsed": true
   },
   "source": [
    "## 6. Key Findings Summary\n",
    "\n",
    "### Objective 1: Analyze Age Distribution\n",
    "\n",
    "- **Finding:** The average age of the dataset participants is 39 years, which suggests a middle-aged demographic predominates.\n",
    "\n",
    "### Objective 2: Analyze Bmi Distribution\n",
    "\n",
    "- **Finding:** The average bmi of the dataset participants is 30.6, which suggests an obese demographic predominates.\n",
    "\n",
    "### Objective 3: Cost Analysis by Smoking Status\n",
    "\n",
    "- **Finding:** Smokers have an average insurance cost about 4 times higher than non-smokers. This underscores the potential savings in cost through smoking cessation.\n",
    "\n",
    "### Suggestions for Future Research\n",
    "\n",
    "- Future studies could focus on analyzing the dataset based on the region variable to better understand any regional influences on medical insurance costs.\n",
    "\n",
    "\n"
   ]
  }
 ],
 "metadata": {
  "kernelspec": {
   "display_name": "Python 3 (ipykernel)",
   "language": "python",
   "name": "python3"
  },
  "language_info": {
   "codemirror_mode": {
    "name": "ipython",
    "version": 3
   },
   "file_extension": ".py",
   "mimetype": "text/x-python",
   "name": "python",
   "nbconvert_exporter": "python",
   "pygments_lexer": "ipython3",
   "version": "3.11.5"
  }
 },
 "nbformat": 4,
 "nbformat_minor": 4
}
